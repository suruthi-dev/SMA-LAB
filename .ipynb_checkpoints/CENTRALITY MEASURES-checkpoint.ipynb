{
 "cells": [
  {
   "cell_type": "markdown",
   "id": "72b26d55",
   "metadata": {},
   "source": [
    "https://networkx.org/documentation/stable/reference/algorithms/centrality.html"
   ]
  },
  {
   "cell_type": "code",
   "execution_count": 1,
   "id": "053051d6",
   "metadata": {},
   "outputs": [],
   "source": [
    "import networkx as nx\n",
    "import matplotlib.pyplot as plt"
   ]
  },
  {
   "cell_type": "code",
   "execution_count": 25,
   "id": "67794937",
   "metadata": {},
   "outputs": [],
   "source": [
    "g = nx.read_edgelist('sample.txt', create_using=nx.DiGraph())"
   ]
  },
  {
   "cell_type": "code",
   "execution_count": 26,
   "id": "4dfd0d9b",
   "metadata": {},
   "outputs": [
    {
     "data": {
      "image/png": "[encoded data removed]",
      "text/plain": [
       "<Figure size 640x480 with 1 Axes>"
      ]
     },
     "metadata": {},
     "output_type": "display_data"
    }
   ],
   "source": [
    "nx.draw_networkx(g)"
   ]
  },
  {
   "cell_type": "markdown",
   "id": "2ab7e6e8",
   "metadata": {},
   "source": [
    "# Centrality Measures"
   ]
  },
  {
   "cell_type": "markdown",
   "id": "98b5953a",
   "metadata": {},
   "source": [
    "# degree centrality"
   ]
  },
  {
   "cell_type": "code",
   "execution_count": 18,
   "id": "750f8e44",
   "metadata": {},
   "outputs": [
    {
     "data": {
      "text/plain": [
       "{'1': 0.6000000000000001,\n",
       " '2': 0.6000000000000001,\n",
       " '3': 0.4,\n",
       " '4': 0.2,\n",
       " '5': 0.6000000000000001,\n",
       " '6': 0.4}"
      ]
     },
     "execution_count": 18,
     "metadata": {},
     "output_type": "execute_result"
    }
   ],
   "source": [
    "nx.degree_centrality(g)"
   ]
  },
  {
   "cell_type": "markdown",
   "id": "6fc62e7d",
   "metadata": {},
   "source": [
    "## in_degree_centrality\n",
    "\n"
   ]
  },
  {
   "cell_type": "raw",
   "id": "9c0993fd",
   "metadata": {},
   "source": [
    "In-degree centrality measures how many incoming edges are connected to a node in a directed graph. It quantifies the influence or prominence of a node based on the number of nodes that point to it."
   ]
  },
  {
   "cell_type": "code",
   "execution_count": 19,
   "id": "a7c3e2ed",
   "metadata": {},
   "outputs": [
    {
     "data": {
      "text/plain": [
       "{'1': 0.2, '2': 0.4, '3': 0.2, '4': 0.2, '5': 0.4, '6': 0.0}"
      ]
     },
     "execution_count": 19,
     "metadata": {},
     "output_type": "execute_result"
    }
   ],
   "source": [
    "nx.in_degree_centrality(g)"
   ]
  },
  {
   "cell_type": "markdown",
   "id": "6648020a",
   "metadata": {},
   "source": [
    "## out_degree_centrality"
   ]
  },
  {
   "cell_type": "raw",
   "id": "c9b0f7dc",
   "metadata": {},
   "source": [
    " Out-degree centrality measures how many outgoing edges are connected to a node in a directed graph. It quantifies a node's ability to influence or connect to other nodes."
   ]
  },
  {
   "cell_type": "code",
   "execution_count": 20,
   "id": "3a23e674",
   "metadata": {},
   "outputs": [
    {
     "data": {
      "text/plain": [
       "{'1': 0.4, '2': 0.2, '3': 0.2, '4': 0.0, '5': 0.2, '6': 0.4}"
      ]
     },
     "execution_count": 20,
     "metadata": {},
     "output_type": "execute_result"
    }
   ],
   "source": [
    "nx.out_degree_centrality(g)"
   ]
  },
  {
   "cell_type": "markdown",
   "id": "f25a4371",
   "metadata": {},
   "source": [
    "# Eigenvector centrality"
   ]
  },
  {
   "cell_type": "raw",
   "id": "491447b4",
   "metadata": {},
   "source": [
    "Eigenvector centrality is a measure of node centrality in a network, where nodes are considered more central if they are connected to other central nodes. It's a recursive measure, meaning that the centrality of a node depends on the centrality of its neighbors."
   ]
  },
  {
   "cell_type": "code",
   "execution_count": 21,
   "id": "e1d571ba",
   "metadata": {},
   "outputs": [
    {
     "data": {
      "text/plain": [
       "{'1': 0.4472141072945218,\n",
       " '2': 0.4472142494601031,\n",
       " '3': 0.4472141072945218,\n",
       " '4': 0.4472112639828975,\n",
       " '5': 0.4472142494601031,\n",
       " '6': 1.421655812136659e-07}"
      ]
     },
     "execution_count": 21,
     "metadata": {},
     "output_type": "execute_result"
    }
   ],
   "source": [
    "nx.eigenvector_centrality(g)"
   ]
  },
  {
   "cell_type": "markdown",
   "id": "9ec4333c",
   "metadata": {},
   "source": [
    "# katz_centrality"
   ]
  },
  {
   "cell_type": "raw",
   "id": "0ecf4aed",
   "metadata": {},
   "source": [
    "Katz centrality is another centrality measure used in network analysis. It quantifies the importance of a node in a network by considering not only its immediate neighbors but also nodes that are further away, with the influence of distant nodes decreasing exponentially with distance. Katz centrality can be seen as a generalization of both degree centrality and eigenvector centrality."
   ]
  },
  {
   "cell_type": "code",
   "execution_count": 22,
   "id": "55acae69",
   "metadata": {},
   "outputs": [
    {
     "data": {
      "text/plain": [
       "{'1': 0.40433198241501256,\n",
       " '2': 0.43711566056347756,\n",
       " '3': 0.40433198241501256,\n",
       " '4': 0.4010536182063703,\n",
       " '5': 0.43711566056347756,\n",
       " '6': 0.36062042357107327}"
      ]
     },
     "execution_count": 22,
     "metadata": {},
     "output_type": "execute_result"
    }
   ],
   "source": [
    "nx.katz_centrality(g)"
   ]
  },
  {
   "cell_type": "markdown",
   "id": "6632e2cf",
   "metadata": {},
   "source": [
    "# Closeness Centrality"
   ]
  },
  {
   "cell_type": "raw",
   "id": "f8888a32",
   "metadata": {},
   "source": [
    "Closeness centrality is a network centrality measure that quantifies how close or central a node is to all other nodes in a network. It is based on the idea that nodes that can quickly reach other nodes in the network are more central or influential. In other words, closeness centrality measures how efficiently information or influence can spread from a node to other nodes in the network."
   ]
  },
  {
   "cell_type": "code",
   "execution_count": 23,
   "id": "0c1ac431",
   "metadata": {},
   "outputs": [
    {
     "data": {
      "text/plain": [
       "{'1': 0.4,\n",
       " '2': 0.45714285714285713,\n",
       " '3': 0.4,\n",
       " '4': 0.38461538461538464,\n",
       " '5': 0.45714285714285713,\n",
       " '6': 0.0}"
      ]
     },
     "execution_count": 23,
     "metadata": {},
     "output_type": "execute_result"
    }
   ],
   "source": [
    "nx.closeness_centrality(g)"
   ]
  },
  {
   "cell_type": "markdown",
   "id": "8dc854ca",
   "metadata": {},
   "source": [
    "# Betweenness centrality"
   ]
  },
  {
   "cell_type": "raw",
   "id": "68291ff1",
   "metadata": {},
   "source": [
    "Betweenness centrality is a network centrality measure that quantifies the importance of a node in facilitating the flow of information or interactions between other nodes in the network. It measures the number of shortest paths that pass through a node, indicating its role as a bridge or intermediary in connecting different parts of the network."
   ]
  },
  {
   "cell_type": "code",
   "execution_count": 24,
   "id": "0042179c",
   "metadata": {},
   "outputs": [
    {
     "data": {
      "text/plain": [
       "{'1': 0.35000000000000003,\n",
       " '2': 0.2,\n",
       " '3': 0.2,\n",
       " '4': 0.0,\n",
       " '5': 0.35000000000000003,\n",
       " '6': 0.0}"
      ]
     },
     "execution_count": 24,
     "metadata": {},
     "output_type": "execute_result"
    }
   ],
   "source": [
    "nx.betweenness_centrality(g)"
   ]
  }
 ],
 "metadata": {
  "kernelspec": {
   "display_name": "Python 3 (ipykernel)",
   "language": "python",
   "name": "python3"
  },
  "language_info": {
   "codemirror_mode": {
    "name": "ipython",
    "version": 3
   },
   "file_extension": ".py",
   "mimetype": "text/x-python",
   "name": "python",
   "nbconvert_exporter": "python",
   "pygments_lexer": "ipython3",
   "version": "3.10.9"
  }
 },
 "nbformat": 4,
 "nbformat_minor": 5
}
