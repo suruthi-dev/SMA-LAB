{
  "nbformat": 4,
  "nbformat_minor": 0,
  "metadata": {
    "colab": {
      "provenance": []
    },
    "kernelspec": {
      "name": "python3",
      "display_name": "Python 3"
    },
    "language_info": {
      "name": "python"
    }
  },
  "cells": [
    {
      "cell_type": "code",
      "source": [
        "import requests\n",
        "import string\n",
        "import random"
      ],
      "metadata": {
        "id": "emzjVEkZfrR4"
      },
      "execution_count": null,
      "outputs": []
    },
    {
      "cell_type": "code",
      "source": [
        "CLIENT_ID = '864bbw53h1j0ig'\n",
        "CLIENT_SECRET = 'CfonFSflxfCJSSY8'\n",
        "REDIRECT_URI = 'http://localhost:8888'"
      ],
      "metadata": {
        "id": "eKNecASKfsCQ"
      },
      "execution_count": null,
      "outputs": []
    },
    {
      "cell_type": "code",
      "execution_count": null,
      "metadata": {
        "colab": {
          "base_uri": "https://localhost:8080/"
        },
        "id": "pDdOpNsCdlW9",
        "outputId": "380949c6-3a72-4d5d-a10e-e64cd7f30aab"
      },
      "outputs": [
        {
          "output_type": "stream",
          "name": "stdout",
          "text": [
            "[(None, 'Chief'), ('Chief', 'Executive'), ('Executive', 'Officer'), ('Officer', None)]\n",
            "[(None, 'Chief'), ('Chief', 'Technology'), ('Technology', 'Officer'), ('Officer', None)]\n",
            "2\n"
          ]
        }
      ],
      "source": [
        "from nltk.util import bigrams\n",
        "\n",
        "ceo_bigrams = list(bigrams(\"Chief Executive Officer\".split(), pad_left=True, pad_right=True))\n",
        "cto_bigrams = list(bigrams(\"Chief Technology Officer\".split(), pad_left=True, pad_right=True))\n",
        "\n",
        "print(ceo_bigrams)\n",
        "print(cto_bigrams)\n",
        "\n",
        "print(len(set(ceo_bigrams).intersection(set(cto_bigrams))))"
      ]
    },
    {
      "cell_type": "code",
      "source": [
        "from nltk.metrics.distance import jaccard_distance # pip install nltk\n",
        "\n",
        "job_title_1 = 'Chief Executive Officer'.split()\n",
        "job_title_2 = 'Chief Technology Officer'.split()\n",
        "\n",
        "print(job_title_1)\n",
        "print(job_title_2)\n",
        "\n",
        "print()\n",
        "print('Intersection:')\n",
        "intersection = set(job_title_1).intersection(set(job_title_2))\n",
        "print(intersection)\n",
        "\n",
        "print()\n",
        "print('Union:')\n",
        "union = set(job_title_1).union(set(job_title_2))\n",
        "print(union)\n",
        "\n",
        "print()\n",
        "print('Similarity:', len(intersection) / len(union))\n",
        "print('Distance:', jaccard_distance(set(job_title_1), set(job_title_2)))"
      ],
      "metadata": {
        "colab": {
          "base_uri": "https://localhost:8080/"
        },
        "id": "3QWW3DKbd18Y",
        "outputId": "aa5523f8-c387-40f6-b2c1-d22917dc962c"
      },
      "execution_count": null,
      "outputs": [
        {
          "output_type": "stream",
          "name": "stdout",
          "text": [
            "['Chief', 'Executive', 'Officer']\n",
            "['Chief', 'Technology', 'Officer']\n",
            "\n",
            "Intersection:\n",
            "{'Chief', 'Officer'}\n",
            "\n",
            "Union:\n",
            "{'Chief', 'Technology', 'Officer', 'Executive'}\n",
            "\n",
            "Similarity: 0.5\n",
            "Distance: 0.5\n"
          ]
        }
      ]
    },
    {
      "cell_type": "code",
      "source": [],
      "metadata": {
        "id": "hAvfY_fid2kK"
      },
      "execution_count": null,
      "outputs": []
    }
  ]
}